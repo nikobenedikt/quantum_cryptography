{
 "cells": [
  {
   "cell_type": "markdown",
   "id": "12956aae-f2f5-4308-8845-c68e17671414",
   "metadata": {},
   "source": [
    "these snippets might help in detecting the port"
   ]
  },
  {
   "cell_type": "code",
   "execution_count": null,
   "id": "debfe1a8-c0f6-48b8-9869-b92abe68eb24",
   "metadata": {},
   "outputs": [],
   "source": [
    "# try this with and without a connected Arduino:\n",
    "import serial.tools.list_ports\n",
    "\n",
    "\n",
    "# list all ports:\n",
    "for port in serial.tools.list_ports.comports():\n",
    "    print(port)"
   ]
  },
  {
   "cell_type": "code",
   "execution_count": null,
   "id": "8631eb0a-5fd3-4ed3-8f2a-34cda6f20351",
   "metadata": {},
   "outputs": [],
   "source": [
    "# print a bit of info about the last port:\n",
    "print(\n",
    "    port.device,\n",
    "    port.description,\n",
    "    port.usb_description(),\n",
    "    port.usb_info(),\n",
    "    sep=\"\\n\",\n",
    ")"
   ]
  },
  {
   "cell_type": "code",
   "execution_count": null,
   "id": "30c4fb64-1744-462c-8c24-240949997e74",
   "metadata": {},
   "outputs": [],
   "source": [
    "# all methods and variables:\n",
    "dir(port)"
   ]
  },
  {
   "cell_type": "markdown",
   "id": "de0a8b26-059d-4ab3-b6d6-097cdae86781",
   "metadata": {},
   "source": [
    "get the serial port"
   ]
  },
  {
   "cell_type": "code",
   "execution_count": null,
   "id": "6a00d6a9-d6ee-4024-b4ad-06d8a3969da8",
   "metadata": {},
   "outputs": [],
   "source": [
    "import serial  # pyserial.\n",
    "\n",
    "\n",
    "def get_serial_connection():\n",
    "    BAUD_RATE = 9600\n",
    "    TIMEOUT = 1\n",
    "\n",
    "    try:\n",
    "        return serial.Serial(\"/dev/ttyACM0\", BAUD_RATE, timeout=TIMEOUT)\n",
    "    except serial.SerialException:\n",
    "        print(\"failed to connect to default raspberry pi serial port\")\n",
    "\n",
    "    try:\n",
    "        # TODO: detect the correct Arduino serial port.\n",
    "        return serial.Serial(\"/dev/\", BAUD_RATE, timeout=TIMEOUT)\n",
    "    except serial.SerialException:\n",
    "        print(\"failed to connect to ....\")\n",
    "\n",
    "    print(\"giving up, returning None\")\n",
    "    return None\n",
    "\n",
    "\n",
    "ser = get_serial_connection()"
   ]
  },
  {
   "cell_type": "code",
   "execution_count": null,
   "id": "b606b066-3fc0-4f54-b22a-665851ead37c",
   "metadata": {},
   "outputs": [],
   "source": [
    "print(ser)\n",
    "\n",
    "# check if not None:\n",
    "if ser:\n",
    "    ser.flush()\n",
    "\n",
    "    while True:\n",
    "        if ser.in_waiting > 0:\n",
    "            line = ser.readline().decode(\"utf-8\").rstrip()\n",
    "            print(line)"
   ]
  }
 ],
 "metadata": {
  "kernelspec": {
   "display_name": "Python 3",
   "language": "python",
   "name": "python3"
  },
  "language_info": {
   "codemirror_mode": {
    "name": "ipython",
    "version": 3
   },
   "file_extension": ".py",
   "mimetype": "text/x-python",
   "name": "python",
   "nbconvert_exporter": "python",
   "pygments_lexer": "ipython3",
   "version": "3.9.5"
  }
 },
 "nbformat": 4,
 "nbformat_minor": 5
}
