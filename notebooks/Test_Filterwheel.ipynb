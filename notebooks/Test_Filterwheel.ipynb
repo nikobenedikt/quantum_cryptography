{
 "cells": [
  {
   "cell_type": "code",
   "execution_count": null,
   "id": "b96e3ada-9b42-4e09-9f18-5f758617024f",
   "metadata": {},
   "outputs": [],
   "source": [
    "#!/usr/bin/python3\n",
    "import time\n",
    "import RPi.GPIO as GPIO\n",
    "\n",
    "DIR = 26  # Direction GPIO Pin\n",
    "STEP = 21  # Step GPIO Pin\n",
    "CW = 1  # Clockwise Rotation\n",
    "CCW = 0  # Counterclockwise Rotation\n",
    "SPR = 50  # Steps per Revolution (360 / 7.5)\n",
    "SPR2 = 50\n",
    "\n",
    "GPIO.setmode(GPIO.BCM)\n",
    "GPIO.setup(DIR, GPIO.OUT)\n",
    "GPIO.setup(STEP, GPIO.OUT)\n",
    "GPIO.output(DIR, CW)\n",
    "\n",
    "step_count = SPR\n",
    "step_count2 = SPR2\n",
    "\n",
    "delay = 0.001\n",
    "\n",
    "\n",
    "def next():\n",
    "    GPIO.output(DIR, CW)\n",
    "    for x in range(step_count):\n",
    "        GPIO.output(STEP, GPIO.HIGH)\n",
    "        time.sleep(delay)\n",
    "        GPIO.output(STEP, GPIO.LOW)\n",
    "        time.sleep(delay)\n",
    "\n",
    "\n",
    "def next1():\n",
    "    GPIO.output(DIR, CCW)\n",
    "    for x in range(step_count2):\n",
    "        GPIO.output(STEP, GPIO.HIGH)\n",
    "        time.sleep(delay)\n",
    "        GPIO.output(STEP, GPIO.LOW)\n",
    "        time.sleep(delay)\n",
    "\n",
    "\n",
    "while True:\n",
    "    next()\n",
    "    time.sleep(1)\n",
    "    next1()\n",
    "    time.sleep(1)"
   ]
  }
 ],
 "metadata": {
  "kernelspec": {
   "display_name": "Python 3",
   "language": "python",
   "name": "python3"
  },
  "language_info": {
   "codemirror_mode": {
    "name": "ipython",
    "version": 3
   },
   "file_extension": ".py",
   "mimetype": "text/x-python",
   "name": "python",
   "nbconvert_exporter": "python",
   "pygments_lexer": "ipython3",
   "version": "3.9.5"
  }
 },
 "nbformat": 4,
 "nbformat_minor": 5
}
